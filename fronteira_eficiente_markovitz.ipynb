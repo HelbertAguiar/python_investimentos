{
 "cells": [
  {
   "cell_type": "code",
   "execution_count": 1,
   "metadata": {},
   "outputs": [],
   "source": [
    "tickers = ['WEGE3.SA', 'BBAS3.SA']\n",
    "periodo = '2y'  # Opções: 1d,5d,1mo,3mo,6mo,1y,2y,5y,10y,ytd,max"
   ]
  },
  {
   "cell_type": "code",
   "execution_count": 2,
   "metadata": {},
   "outputs": [],
   "source": [
    "!pip install -q yfinance"
   ]
  },
  {
   "cell_type": "code",
   "execution_count": 3,
   "metadata": {},
   "outputs": [],
   "source": [
    "import yfinance as yf\n",
    "import pandas as pd\n",
    "import numpy as np\n",
    "\n",
    "import plotly.graph_objects as go\n",
    "\n",
    "from ipywidgets import interact"
   ]
  },
  {
   "cell_type": "code",
   "execution_count": 4,
   "metadata": {},
   "outputs": [],
   "source": [
    "def fix_col_names(df):\n",
    "  return ['IBOV' if col =='^BVSP' else col.rstrip('.SA') for col in df.columns]"
   ]
  },
  {
   "cell_type": "code",
   "execution_count": 5,
   "metadata": {},
   "outputs": [
    {
     "name": "stdout",
     "output_type": "stream",
     "text": [
      "[*********************100%***********************]  2 of 2 completed\n"
     ]
    }
   ],
   "source": [
    "prices = yf.download(tickers, period=periodo, rounding=True )['Adj Close']\n",
    "prices.columns = fix_col_names(prices)\n",
    "prices.dropna(inplace=True)\n",
    "retorno = prices.pct_change().dropna()\n",
    "ativos = retorno.columns.to_list()"
   ]
  },
  {
   "cell_type": "code",
   "execution_count": 6,
   "metadata": {},
   "outputs": [],
   "source": [
    "def calcula_carteira(df, w1):\n",
    "  pesos = [w1,(1-w1)]  \n",
    "  df2 = df.dot(pesos).copy()\n",
    "  return  df2.mean() * 252, df2.std() * np.sqrt(252)"
   ]
  },
  {
   "cell_type": "code",
   "execution_count": 7,
   "metadata": {},
   "outputs": [],
   "source": [
    "# Criando 100 carteiras de dois ativos com pesos variáveis\n",
    "carteira = pd.DataFrame()\n",
    "for i in np.linspace(0,1, 101):\n",
    "  media, std = calcula_carteira(retorno,i)\n",
    "  carteira.at[i,'retorno'] = media\n",
    "  carteira.at[i,'volatilidade'] = std"
   ]
  },
  {
   "cell_type": "code",
   "execution_count": 8,
   "metadata": {},
   "outputs": [],
   "source": [
    "# Carteira de volatilidade mínima\n",
    "min_vol_idx = carteira['volatilidade'].idxmin()"
   ]
  },
  {
   "cell_type": "code",
   "execution_count": 9,
   "metadata": {},
   "outputs": [],
   "source": [
    "# Calcula a fronteira eficiente\n",
    "if (carteira['retorno'].iloc[0] > carteira['retorno'].iloc[-1]):\n",
    "  fe = carteira.loc[:min_vol_idx, :]\n",
    "else:\n",
    "  fe = carteira.loc[min_vol_idx:, :]"
   ]
  },
  {
   "cell_type": "code",
   "execution_count": 10,
   "metadata": {
    "scrolled": true
   },
   "outputs": [
    {
     "data": {
      "application/vnd.jupyter.widget-view+json": {
       "model_id": "4229cafcf0d74205904cf19e3a6fd465",
       "version_major": 2,
       "version_minor": 0
      },
      "text/plain": [
       "interactive(children=(IntSlider(value=50, description='w1'), Checkbox(value=False, description='mostrar_curvas…"
      ]
     },
     "metadata": {},
     "output_type": "display_data"
    }
   ],
   "source": [
    "def gerar_grafico(w1, mostrar_curvas):\n",
    "  fig = go.Figure()\n",
    "\n",
    "  # Desenha um ponto com o retorno e a volatilidade da carteira\n",
    "  fig.add_scatter(y=[carteira.iloc[w1]['retorno']], \n",
    "                  x=[carteira.iloc[w1]['volatilidade']], \n",
    "                  text=['CARTEIRA'],\n",
    "                  mode='markers+text', name='CARTEIRA')\n",
    "  \n",
    "  # Desenha os pontos das ações individuais\n",
    "  fig.add_scatter(y=carteira.iloc[[-1,0]]['retorno'], \n",
    "                  x=carteira.iloc[[-1,0]]['volatilidade'], \n",
    "                  text=ativos,\n",
    "                  mode='markers+text', name='Ações')\n",
    "  \n",
    "  # Desenha a curva\n",
    "  fig.add_scatter(y=carteira['retorno'], \n",
    "                  x=carteira['volatilidade'],                  \n",
    "                  mode='lines', name='Curva', \n",
    "                  visible=mostrar_curvas)\n",
    "\n",
    "  # Plota carteira de volatilidade mínima   \n",
    "  fig.add_scatter(y=[carteira.loc[min_vol_idx]['retorno']], \n",
    "                  x=[carteira.loc[min_vol_idx]['volatilidade']],                  \n",
    "                  mode='markers', \n",
    "                  name='Carteira de Mínima Variância',\n",
    "                  visible=mostrar_curvas)\n",
    "      \n",
    "  # Desenha a fronteira eficiente\n",
    "  fig.add_scatter(y=fe['retorno'], \n",
    "                  x=fe['volatilidade'],                  \n",
    "                  mode='lines', name='Fronteira Eficiente', \n",
    "                  line={'color':'red'},\n",
    "                  visible=mostrar_curvas)\n",
    "                \n",
    "  fig.update_traces(textfont_size=12, \n",
    "                  textposition='top center', \n",
    "                  textfont_color='white',\n",
    "                  hovertemplate='<b>retorno: </b> %{y:.1%}'+\n",
    "                                '<br><b>volatilidade:</b> %{x:.1%}')\n",
    "  fig.layout.autosize = False\n",
    "  fig.layout.xaxis.title='Volatilidade'\n",
    "  fig.layout.yaxis.title='Retorno Esperado'\n",
    "  fig.layout.xaxis.range = [carteira['volatilidade'].min()-0.05, carteira['volatilidade'].max()+0.05]\n",
    "  fig.layout.yaxis.range = [carteira['retorno'].min()-0.05, carteira['retorno'].max()+0.05]\n",
    "  fig.layout.xaxis.tickformat = '.0%'\n",
    "  fig.layout.yaxis.tickformat = '.0%'\n",
    "  fig.layout.title = f\"<b>{ativos[0]}:</b> {w1}%  <b>{ativos[1]}:</b> {100-w1}%\"\n",
    "  fig.layout.template = 'plotly_dark'\n",
    "                   \n",
    "  fig.show(config=dict(\n",
    "                    displayModeBar=True\n",
    "                ))\n",
    "\n",
    "interact(gerar_grafico, w1=(0,100, 1), mostrar_curvas=False);"
   ]
  }
 ],
 "metadata": {
  "kernelspec": {
   "display_name": "Python 3",
   "language": "python",
   "name": "python3"
  },
  "language_info": {
   "codemirror_mode": {
    "name": "ipython",
    "version": 3
   },
   "file_extension": ".py",
   "mimetype": "text/x-python",
   "name": "python",
   "nbconvert_exporter": "python",
   "pygments_lexer": "ipython3",
   "version": "3.8.5"
  }
 },
 "nbformat": 4,
 "nbformat_minor": 4
}
